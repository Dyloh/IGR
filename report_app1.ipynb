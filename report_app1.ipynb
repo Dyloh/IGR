{
 "cells": [
  {
   "cell_type": "code",
   "execution_count": 1,
   "metadata": {},
   "outputs": [
    {
     "data": {
      "text/html": [
       "<div>\n",
       "<style scoped>\n",
       "    .dataframe tbody tr th:only-of-type {\n",
       "        vertical-align: middle;\n",
       "    }\n",
       "\n",
       "    .dataframe tbody tr th {\n",
       "        vertical-align: top;\n",
       "    }\n",
       "\n",
       "    .dataframe thead th {\n",
       "        text-align: right;\n",
       "    }\n",
       "</style>\n",
       "<table border=\"1\" class=\"dataframe\">\n",
       "  <thead>\n",
       "    <tr style=\"text-align: right;\">\n",
       "      <th>stock</th>\n",
       "      <th>8</th>\n",
       "      <th>84</th>\n",
       "    </tr>\n",
       "    <tr>\n",
       "      <th>method</th>\n",
       "      <th></th>\n",
       "      <th></th>\n",
       "    </tr>\n",
       "  </thead>\n",
       "  <tbody>\n",
       "    <tr>\n",
       "      <th>IGR_1</th>\n",
       "      <td>0.135 +- 0.068</td>\n",
       "      <td>0.036 +- 0.034</td>\n",
       "    </tr>\n",
       "    <tr>\n",
       "      <th>IGR_2</th>\n",
       "      <td>0.131 +- 0.074</td>\n",
       "      <td>0.048 +- 0.039</td>\n",
       "    </tr>\n",
       "    <tr>\n",
       "      <th>CD</th>\n",
       "      <td>-0.150 +- 0.296</td>\n",
       "      <td>-0.006 +- 0.072</td>\n",
       "    </tr>\n",
       "    <tr>\n",
       "      <th>AR</th>\n",
       "      <td>-0.199 +- 0.097</td>\n",
       "      <td>-0.018 +- 0.021</td>\n",
       "    </tr>\n",
       "    <tr>\n",
       "      <th>LASSO</th>\n",
       "      <td>-0.199 +- 0.097</td>\n",
       "      <td>-0.018 +- 0.021</td>\n",
       "    </tr>\n",
       "    <tr>\n",
       "      <th>DRIG</th>\n",
       "      <td>-0.553 +- 0.309</td>\n",
       "      <td>-0.201 +- 0.099</td>\n",
       "    </tr>\n",
       "    <tr>\n",
       "      <th>PCMCI</th>\n",
       "      <td>0.051 +- 0.075</td>\n",
       "      <td>-0.057 +- 0.041</td>\n",
       "    </tr>\n",
       "  </tbody>\n",
       "</table>\n",
       "</div>"
      ],
      "text/plain": [
       "stock                8                84\n",
       "method                                  \n",
       "IGR_1    0.135 +- 0.068   0.036 +- 0.034\n",
       "IGR_2    0.131 +- 0.074   0.048 +- 0.039\n",
       "CD      -0.150 +- 0.296  -0.006 +- 0.072\n",
       "AR      -0.199 +- 0.097  -0.018 +- 0.021\n",
       "LASSO   -0.199 +- 0.097  -0.018 +- 0.021\n",
       "DRIG    -0.553 +- 0.309  -0.201 +- 0.099\n",
       "PCMCI    0.051 +- 0.075  -0.057 +- 0.041"
      ]
     },
     "execution_count": 1,
     "metadata": {},
     "output_type": "execute_result"
    }
   ],
   "source": [
    "from evaluate_utils import get_acc_per_seed\n",
    "import numpy as np\n",
    "import pandas as pd\n",
    "STOCK_LIST = [8, 84]\n",
    "method_list = [f\"IGR_{k}\" for k in range(1,3)] + [\"CD\", \"AR\", \"LASSO\", \"DRIG\", \"PCMCI\"]\n",
    "file_path = f\"./saved_result/\"\n",
    "\n",
    "df = pd.DataFrame(index=method_list, columns=STOCK_LIST, dtype=str)\n",
    "df.index.name = \"method\"\n",
    "df.columns.name = \"stock\"\n",
    "\n",
    "for i_stock in STOCK_LIST:\n",
    "    npz_object = np.load(f\"{file_path}/{i_stock}.npz\")\n",
    "    for method in method_list:\n",
    "        debug_t_t, debug_v_t = npz_object[f\"r_t_t_{method}\"], npz_object[f\"r_v_t_{method}\"]\n",
    "        debug_acc_list = np.array(get_acc_per_seed(debug_v_t, debug_t_t))\n",
    "        df.loc[method, i_stock] = rf\"{debug_acc_list.mean():.3f} +- {debug_acc_list.std():.3f}\"\n",
    "df"
   ]
  }
 ],
 "metadata": {
  "kernelspec": {
   "display_name": "xyy",
   "language": "python",
   "name": "python3"
  },
  "language_info": {
   "codemirror_mode": {
    "name": "ipython",
    "version": 3
   },
   "file_extension": ".py",
   "mimetype": "text/x-python",
   "name": "python",
   "nbconvert_exporter": "python",
   "pygments_lexer": "ipython3",
   "version": "3.11.9"
  }
 },
 "nbformat": 4,
 "nbformat_minor": 2
}
